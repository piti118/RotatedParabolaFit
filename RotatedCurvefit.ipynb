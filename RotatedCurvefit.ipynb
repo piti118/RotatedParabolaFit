{
 "cells": [
  {
   "cell_type": "code",
   "execution_count": 1,
   "metadata": {
    "ExecuteTime": {
     "end_time": "2020-04-09T21:06:37.479148Z",
     "start_time": "2020-04-09T21:06:35.813495Z"
    }
   },
   "outputs": [],
   "source": [
    "import numpy as np\n",
    "from scipy.optimize import minimize\n",
    "from math import pi\n",
    "from matplotlib import pyplot as plt"
   ]
  },
  {
   "cell_type": "code",
   "execution_count": 2,
   "metadata": {
    "ExecuteTime": {
     "end_time": "2020-04-09T21:06:37.546674Z",
     "start_time": "2020-04-09T21:06:37.515170Z"
    }
   },
   "outputs": [],
   "source": [
    "def R(theta):\n",
    "    return np.array([\n",
    "        [np.cos(theta), -np.sin(theta)],\n",
    "        [np.sin(theta), np.cos(theta)]\n",
    "    ])"
   ]
  },
  {
   "cell_type": "code",
   "execution_count": 3,
   "metadata": {
    "ExecuteTime": {
     "end_time": "2020-04-09T21:06:37.717328Z",
     "start_time": "2020-04-09T21:06:37.583222Z"
    }
   },
   "outputs": [],
   "source": [
    "class RotatedParabola:\n",
    "    def __init__(self, a, h, k, theta):\n",
    "        self.a = a\n",
    "        self.h = h\n",
    "        self.k = k\n",
    "        self.theta = theta\n",
    "        #graph is yp = a xp**2 where xp, yp if coordinate center at h,k rotated by theta\n",
    "\n",
    "    def to_xp_yp(self, xs, ys): # convert to prime coordinate\n",
    "        sx = xs - self.h # shift\n",
    "        sy = ys - self.k\n",
    "        r = np.array([sx, sy])\n",
    "        xp, yp = np.dot(R(self.theta), r)  # rotate\n",
    "        return xp, yp\n",
    "\n",
    "    def to_x_y(self, xp, yp): # convert to original coordinate\n",
    "        theta = self.theta\n",
    "        R_inv = R(-theta)\n",
    "        sx, sy = np.dot(R_inv, np.array([xp, yp]))\n",
    "        return sx + self.h, sy + self.k\n",
    "    \n",
    "    def make_curve_from_x_y(self, start_x, start_y, end_x, end_y):\n",
    "        theta = self.theta\n",
    "        start_xp, _ = self.to_xp_yp(start_x, start_y)\n",
    "        end_xp, _ = self.to_xp_yp(end_x, end_y)\n",
    "        return self.make_curve_from_xp(start_xp, end_xp)\n",
    "\n",
    "    def make_curve_from_xp(self, start_xp, end_xp, n=100, noise=0.):\n",
    "        xp = np.linspace(start_xp, end_xp, n)\n",
    "        yp = self.a * xp**2 + np.random.randn(n)*noise\n",
    "        return self.to_x_y(xp, yp)\n",
    "\n",
    "    def __str__(self):\n",
    "        return f\"RotatedParabola(a={self.a}, h={self.h:}, k={self.k}, theta={self.theta})\"\n",
    "    \n",
    "    @classmethod\n",
    "    def from_fit(cls, xs, ys, n_scan=360):\n",
    "        # improving theta resolution by shifting to the meanx and meany\n",
    "        mean_xs = np.mean(xs)\n",
    "        mean_ys = np.mean(ys)\n",
    "        nxs = (xs - mean_xs)\n",
    "        nys = (ys - mean_ys)\n",
    "\n",
    "        def full_cost(v):\n",
    "            theta = v[0]\n",
    "            r = np.array([nxs, nys])\n",
    "            xp, yp = np.dot(R(theta), r)  # rotate\n",
    "            p = np.polyfit(xp, yp, 2)  # fit (normal eq=faster)\n",
    "            val = np.polyval(p, xp)\n",
    "            return np.sum((val-yp)**2), p\n",
    "\n",
    "        def cost(v):\n",
    "            return full_cost(v)[0]\n",
    "\n",
    "        # scan theta since the function is non convex in theta\n",
    "        thetas = np.linspace(0, 2*pi+0.1, n_scan)\n",
    "        costs = [cost([theta]) for theta in thetas]\n",
    "        \n",
    "        #plot to see it's very non convex in theta\n",
    "        #plt.plot(thetas, costs)\n",
    "\n",
    "        # use best theta as initial value for the fit\n",
    "        ini_theta = thetas[np.argmin(costs)]\n",
    "        res = minimize(cost, [ini_theta])\n",
    "        best_theta, = res.x\n",
    "        _, p = full_cost([best_theta])\n",
    "        a, b, c = p\n",
    "\n",
    "        # now convert a,b,c, theta it to a, k h, theta\n",
    "        # high school math\n",
    "        theta = best_theta\n",
    "        a = a\n",
    "        rh = -b/2/a  # k and h in rotated frame\n",
    "        rk = c-b**2/4/a\n",
    "\n",
    "        # invert h, k back to original axis\n",
    "        h, k = np.dot(R(-theta), [rh, rk])\n",
    "\n",
    "        # shift back to non mean axis\n",
    "        h += mean_xs\n",
    "        k += mean_ys\n",
    "\n",
    "        return RotatedParabola(a, h, k, theta)"
   ]
  },
  {
   "cell_type": "code",
   "execution_count": 4,
   "metadata": {
    "ExecuteTime": {
     "end_time": "2020-04-09T21:06:37.845378Z",
     "start_time": "2020-04-09T21:06:37.775176Z"
    }
   },
   "outputs": [],
   "source": [
    "def sample_from_a_b_c_theta(a,b,c,theta, n=100, noise=0.5):\n",
    "    xp = np.linspace(-5, 5, n)\n",
    "    yp = a*xp**2 + b*xp + c + np.random.randn(n)*0.5\n",
    "    R_inv = np.array([\n",
    "        [np.cos(-theta), -np.sin(-theta)],\n",
    "        [np.sin(-theta), np.cos(-theta)]\n",
    "    ])\n",
    "    rx ,ry = np.dot(R_inv, np.array([xp, yp]))\n",
    "    return rx, ry"
   ]
  },
  {
   "cell_type": "code",
   "execution_count": 5,
   "metadata": {
    "ExecuteTime": {
     "end_time": "2020-04-09T21:06:37.907585Z",
     "start_time": "2020-04-09T21:06:37.859112Z"
    }
   },
   "outputs": [],
   "source": [
    "def sample_from_h_k_theta(a, h, k, theta, n=100, noise = 3.):\n",
    "    xp = np.linspace(-5, 5, n)\n",
    "    yp = a * xp**2 + np.random.randn(n)*noise\n",
    "\n",
    "    R_inv = np.array([\n",
    "        [np.cos(-theta), -np.sin(-theta)],\n",
    "        [np.sin(-theta), np.cos(-theta)]\n",
    "    ])\n",
    "    \n",
    "    sx, sy = np.dot(R_inv, np.array([xp, yp]))\n",
    "    xs = sx + h\n",
    "    ys = sy + k\n",
    "    \n",
    "    return xs, ys\n",
    "    "
   ]
  },
  {
   "cell_type": "code",
   "execution_count": 6,
   "metadata": {
    "ExecuteTime": {
     "end_time": "2020-04-09T21:06:40.053342Z",
     "start_time": "2020-04-09T21:06:37.924331Z"
    }
   },
   "outputs": [
    {
     "name": "stdout",
     "output_type": "stream",
     "text": [
      "RotatedParabola(a=-0.09880991570602465, h=2999.9757875444684, k=3000.068438097323, theta=4.199446577248121)\n"
     ]
    },
    {
     "data": {
      "text/plain": [
       "[<matplotlib.lines.Line2D at 0x11d5cd0b8>]"
      ]
     },
     "execution_count": 6,
     "metadata": {},
     "output_type": "execute_result"
    },
    {
     "data": {
      "image/png": "[encoded data removed]",
      "text/plain": [
       "<Figure size 432x288 with 1 Axes>"
      ]
     },
     "metadata": {
      "image/png": {
       "height": 251,
       "width": 381
      },
      "needs_background": "light"
     },
     "output_type": "display_data"
    }
   ],
   "source": [
    "#xs, ys = sample_from_a_b_c_theta(1,2,3000,pi/3, noise=0.1)\n",
    "np.random.seed(123)\n",
    "xs, ys = sample_from_h_k_theta(0.1, 3000, 3000,pi/3, noise=0.1)\n",
    "\n",
    "rp = RotatedParabola.from_fit(xs, ys)\n",
    "fx, fy = rp.make_curve_from_x_y(xs[0], ys[0], xs[-1], ys[-1])\n",
    "#fx, fy = rp.make_curve_from_xp(-100, 100)\n",
    "print(rp)\n",
    "#fx, fy = rp.\n",
    "#fx, fy = sample(a, h, k, theta, noise=0.)\n",
    "\n",
    "\n",
    "plt.figure()\n",
    "plt.plot(xs , ys, '.')\n",
    "plt.plot(fx, fy)"
   ]
  },
  {
   "cell_type": "code",
   "execution_count": 7,
   "metadata": {
    "ExecuteTime": {
     "end_time": "2020-04-09T21:06:40.094643Z",
     "start_time": "2020-04-09T21:06:40.070607Z"
    }
   },
   "outputs": [],
   "source": [
    "     \n",
    "#     @classmethod\n",
    "#     def from_fitting(cls, xs, ys, n_scan=360):\n",
    "#         \"\"\"Shift the whole graph by (h, k) then rotate then test\n",
    "#         \"\"\"\n",
    "#         assert len(xs) == len(ys)\n",
    "#         xs = np.array(xs, float)\n",
    "#         ys = np.array(ys, float)\n",
    "\n",
    "#         def find_best_a(k, h, theta):\n",
    "#             sx = xs - h  # shifted x\n",
    "#             sy = ys - k  # shifted y\n",
    "#             r = np.array([sx, sy])\n",
    "\n",
    "#             R = np.array([\n",
    "#                 [np.cos(theta), -np.sin(theta)],\n",
    "#                 [np.sin(theta), np.cos(theta)]\n",
    "#             ])\n",
    "#             xp, yp = np.dot(R, r)  # rotate\n",
    "#             a = np.sum(yp*xp**2)/np.sum(xp**4)\n",
    "#             residual = np.sum((yp - a*xp**2)**2)\n",
    "            \n",
    "\n",
    "#             return a, residual\n",
    "\n",
    "#         def cost(v):\n",
    "#             k, h, theta = v\n",
    "#             a, residual = find_best_a(k, h, theta)\n",
    "#             # note if we here to do rotate then shift we can do it much faster with normal eq.\n",
    "#             # but the theta resolution will be sad and we will need to convert\n",
    "#             # a,b,c back to a,k,h\n",
    "#             return residual\n",
    "\n",
    "#         def cost_fixed_theta(theta):\n",
    "#             def c(v):\n",
    "#                 k, h = v\n",
    "#                 return cost([k, h, theta])\n",
    "#             return c\n",
    "\n",
    "#         thetas = np.linspace(0, pi, n_scan)\n",
    "#         reses = []\n",
    "\n",
    "#         # scan theta first since it's non convex here\n",
    "#         for theta in thetas:\n",
    "#             res = minimize(cost_fixed_theta(theta), [1., 1.])\n",
    "#             k, h = res.x\n",
    "#             #print(theta, res.fun, res.x, find_best_a(k, h, theta))\n",
    "#             reses.append(res)\n",
    "#         # try plot it here you will see it's highly non convex\n",
    "#         rfun = [r.fun for r in reses]\n",
    "#         plt.plot(thetas, rfun)\n",
    "\n",
    "#         theta = thetas[np.argmin(rfun)]\n",
    "#         k, h = res.x\n",
    "#         a, _ = find_best_a(k, h, theta)\n",
    "#         print(repr([a, k, h, theta]))\n",
    "#         best_res = minimize(cost, [k, h, theta])\n",
    "#         best_k, best_h, best_theta = best_res.x\n",
    "#         best_a, _ = find_best_a(best_k, best_h, best_theta)\n",
    "#         print(repr([best_a, best_k, best_h, best_theta]))\n",
    "#         return best_a, best_k, best_h, best_theta"
   ]
  }
 ],
 "metadata": {
  "hide_input": false,
  "kernelspec": {
   "display_name": "Python 3",
   "language": "python",
   "name": "python3"
  },
  "language_info": {
   "codemirror_mode": {
    "name": "ipython",
    "version": 3
   },
   "file_extension": ".py",
   "mimetype": "text/x-python",
   "name": "python",
   "nbconvert_exporter": "python",
   "pygments_lexer": "ipython3",
   "version": "3.7.3"
  },
  "toc": {
   "colors": {
    "hover_highlight": "#DAA520",
    "running_highlight": "#FF0000",
    "selected_highlight": "#FFD700"
   },
   "moveMenuLeft": true,
   "nav_menu": {
    "height": "12.352940559387207px",
    "width": "252.35293579101562px"
   },
   "navigate_menu": true,
   "number_sections": false,
   "sideBar": true,
   "threshold": 4,
   "toc_cell": false,
   "toc_section_display": "block",
   "toc_window_display": false
  }
 },
 "nbformat": 4,
 "nbformat_minor": 2
}
